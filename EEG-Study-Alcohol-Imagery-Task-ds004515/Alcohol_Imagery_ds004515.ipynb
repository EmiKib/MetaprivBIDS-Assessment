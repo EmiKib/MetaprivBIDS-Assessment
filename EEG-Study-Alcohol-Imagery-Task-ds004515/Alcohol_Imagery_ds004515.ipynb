{
 "cells": [
  {
   "cell_type": "code",
   "execution_count": 1,
   "id": "2fce6775",
   "metadata": {},
   "outputs": [],
   "source": [
    "import pandas as pd"
   ]
  },
  {
   "cell_type": "code",
   "execution_count": 2,
   "id": "7cb08f34",
   "metadata": {},
   "outputs": [],
   "source": [
    "AL_IMAGE = 'https://s3.amazonaws.com/openneuro.org/ds004515/participants.tsv?versionId=OX_rM1XL_frHnMPy12BwJttx3nN3k8kn'\n",
    "AL_IMAGE = pd.read_csv(AL_IMAGE, sep='\\t')\n",
    "AL_IMAGE.to_csv('AL_IMAGEIC_dataset_ds004515.csv', sep=',', index=False)"
   ]
  },
  {
   "cell_type": "code",
   "execution_count": 4,
   "id": "e81b188b",
   "metadata": {},
   "outputs": [],
   "source": [
    "suda = pd.read_csv('data_ds004515/SUDA_ds004515.csv', sep=',')\n",
    "pif = pd.read_csv('data_ds004515/PIF_ds004515.csv', sep=',',index_col='Unnamed: 0').sort_index()\n",
    "#suda_field_score =  pd.read_csv('data_ds004515/att_suda.csv', sep=',').drop(columns=['Unnamed: 0'], errors='ignore')\n",
    "#k_combined_field =  pd.read_csv('data_ds004515/normalized_difference.csv', sep=',').drop(columns=['Difference in Unique Rows','Unique Rows After Removal']).rename(columns={'Column': 'variable'})\n",
    "#k_combined_all = pd.read_csv('data_ds004515/k-combined-all-2-11.csv', sep=',')\n"
   ]
  },
  {
   "cell_type": "code",
   "execution_count": null,
   "id": "fb3cbd9b",
   "metadata": {},
   "outputs": [],
   "source": []
  }
 ],
 "metadata": {
  "kernelspec": {
   "display_name": "Python 3 (ipykernel)",
   "language": "python",
   "name": "python3"
  },
  "language_info": {
   "codemirror_mode": {
    "name": "ipython",
    "version": 3
   },
   "file_extension": ".py",
   "mimetype": "text/x-python",
   "name": "python",
   "nbconvert_exporter": "python",
   "pygments_lexer": "ipython3",
   "version": "3.7.12"
  }
 },
 "nbformat": 4,
 "nbformat_minor": 5
}
