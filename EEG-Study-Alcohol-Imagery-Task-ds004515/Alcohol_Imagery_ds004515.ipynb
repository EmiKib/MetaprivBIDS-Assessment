{
 "cells": [
  {
   "cell_type": "markdown",
   "id": "bae4944c",
   "metadata": {},
   "source": [
    "## Library Imports"
   ]
  },
  {
   "cell_type": "code",
   "execution_count": 47,
   "id": "90304247",
   "metadata": {},
   "outputs": [],
   "source": [
    "import pandas as pd\n",
    "from scipy.stats import spearmanr, kendalltau, linregress, rankdata\n",
    "import matplotlib.pyplot as plt\n",
    "import sys\n",
    "sys.path.append(\"..\")  \n",
    "import metaprivBIDS_stat as ST\n",
    "from metaprivBIDS_stat import plot_calc\n",
    "from metaprivBIDS_stat import rst_outlier_case2"
   ]
  },
  {
   "cell_type": "markdown",
   "id": "8cf06f9d",
   "metadata": {},
   "source": [
    "## File from OpenNeuro Import\n",
    "AL_IMAGE is the raw dataset \"EEG: Alcohol imagery reinforcement learning task with light and heavy drinker participants\" taken from OpenNeuro. \n"
   ]
  },
  {
   "cell_type": "code",
   "execution_count": 34,
   "id": "d75e688c",
   "metadata": {},
   "outputs": [],
   "source": [
    "AL_IMAGE = 'https://s3.amazonaws.com/openneuro.org/ds004515/participants.tsv?versionId=OX_rM1XL_frHnMPy12BwJttx3nN3k8kn'\n",
    "AL_IMAGE = pd.read_csv(AL_IMAGE, sep='\\t')\n",
    "AL_IMAGE.to_csv('data_ds004515/AL_IMAGE_dataset_ds004515.csv', sep=',', index=False)"
   ]
  },
  {
   "cell_type": "code",
   "execution_count": 45,
   "id": "7f915817",
   "metadata": {},
   "outputs": [
    {
     "data": {
      "text/html": [
       "<div>\n",
       "<style scoped>\n",
       "    .dataframe tbody tr th:only-of-type {\n",
       "        vertical-align: middle;\n",
       "    }\n",
       "\n",
       "    .dataframe tbody tr th {\n",
       "        vertical-align: top;\n",
       "    }\n",
       "\n",
       "    .dataframe thead th {\n",
       "        text-align: right;\n",
       "    }\n",
       "</style>\n",
       "<table border=\"1\" class=\"dataframe\">\n",
       "  <thead>\n",
       "    <tr style=\"text-align: right;\">\n",
       "      <th></th>\n",
       "      <th>participant_id</th>\n",
       "      <th>Original_ID</th>\n",
       "      <th>sex</th>\n",
       "      <th>age</th>\n",
       "      <th>GROUP</th>\n",
       "      <th>BDI</th>\n",
       "      <th>AUDIT</th>\n",
       "      <th>EDUCATION</th>\n",
       "    </tr>\n",
       "  </thead>\n",
       "  <tbody>\n",
       "    <tr>\n",
       "      <th>0</th>\n",
       "      <td>sub-001</td>\n",
       "      <td>10600</td>\n",
       "      <td>F</td>\n",
       "      <td>43</td>\n",
       "      <td>CTL</td>\n",
       "      <td>14</td>\n",
       "      <td>1</td>\n",
       "      <td>16</td>\n",
       "    </tr>\n",
       "    <tr>\n",
       "      <th>1</th>\n",
       "      <td>sub-002</td>\n",
       "      <td>10601</td>\n",
       "      <td>F</td>\n",
       "      <td>50</td>\n",
       "      <td>CTL</td>\n",
       "      <td>2</td>\n",
       "      <td>2</td>\n",
       "      <td>16</td>\n",
       "    </tr>\n",
       "    <tr>\n",
       "      <th>2</th>\n",
       "      <td>sub-003</td>\n",
       "      <td>10602</td>\n",
       "      <td>F</td>\n",
       "      <td>22</td>\n",
       "      <td>CTL</td>\n",
       "      <td>2</td>\n",
       "      <td>1</td>\n",
       "      <td>18</td>\n",
       "    </tr>\n",
       "    <tr>\n",
       "      <th>3</th>\n",
       "      <td>sub-004</td>\n",
       "      <td>10603</td>\n",
       "      <td>F</td>\n",
       "      <td>18</td>\n",
       "      <td>CTL</td>\n",
       "      <td>0</td>\n",
       "      <td>1</td>\n",
       "      <td>13</td>\n",
       "    </tr>\n",
       "    <tr>\n",
       "      <th>4</th>\n",
       "      <td>sub-005</td>\n",
       "      <td>10604</td>\n",
       "      <td>M</td>\n",
       "      <td>31</td>\n",
       "      <td>CTL</td>\n",
       "      <td>1</td>\n",
       "      <td>1</td>\n",
       "      <td>14</td>\n",
       "    </tr>\n",
       "  </tbody>\n",
       "</table>\n",
       "</div>"
      ],
      "text/plain": [
       "  participant_id  Original_ID sex  age GROUP  BDI  AUDIT  EDUCATION\n",
       "0        sub-001        10600   F   43   CTL   14      1         16\n",
       "1        sub-002        10601   F   50   CTL    2      2         16\n",
       "2        sub-003        10602   F   22   CTL    2      1         18\n",
       "3        sub-004        10603   F   18   CTL    0      1         13\n",
       "4        sub-005        10604   M   31   CTL    1      1         14"
      ]
     },
     "execution_count": 45,
     "metadata": {},
     "output_type": "execute_result"
    }
   ],
   "source": [
    "AL_IMAGE.head()"
   ]
  },
  {
   "cell_type": "markdown",
   "id": "1517f2f7",
   "metadata": {},
   "source": [
    "## Load in of results calculated using (MetaprivBIDS App)\n",
    "\n",
    "The selected quasi identifers are: \n",
    "- age\n",
    "- sex\n",
    "- GROUP\n",
    "- BDI\n",
    "- AUDIT\n",
    "- EDUCATION\n",
    "\n",
    "The selected sensitive variables are:\n",
    "- BDI, AUDIT & GROUP\n",
    "\n",
    "The dis-score fraction is the default 0.3 & missing values are indicated as NaN."
   ]
  },
  {
   "cell_type": "code",
   "execution_count": 35,
   "id": "f31508a6",
   "metadata": {},
   "outputs": [],
   "source": [
    "suda = pd.read_csv('data_ds004515/SUDA_ds004515.csv', sep=',')\n",
    "pif = pd.read_csv('data_ds004515/PIF_ds004515.csv', sep=',',index_col='Unnamed: 0').sort_index()"
   ]
  },
  {
   "cell_type": "markdown",
   "id": "82e060f3",
   "metadata": {},
   "source": [
    "## Using MetaprivBIDS stats import to calculate Pearson and Spearman correlation on row level."
   ]
  },
  {
   "cell_type": "code",
   "execution_count": 38,
   "id": "3942fbb9",
   "metadata": {},
   "outputs": [
    {
     "name": "stdout",
     "output_type": "stream",
     "text": [
      "Spearman Rank Correlation between suda & pif: 0.68\n",
      "Kendall's Tau between suda & pif: 0.56, p-value: 0.0000\n"
     ]
    }
   ],
   "source": [
    "# Spearman Rank Correlation\n",
    "correlation_spearman, _ = spearmanr(suda['dis-score'], pif['RIG'])\n",
    "print(f\"Spearman Rank Correlation between suda & pif: {correlation_spearman:.2f}\")  \n",
    "    \n",
    "# Kendall's Tau Correlation\n",
    "tau, p_value = kendalltau(suda['dis-score'], pif['RIG'])\n",
    "print(f\"Kendall's Tau between suda & pif: {tau:.2f}, p-value: {p_value:.4f}\")"
   ]
  },
  {
   "cell_type": "code",
   "execution_count": 48,
   "id": "3adab293",
   "metadata": {},
   "outputs": [
    {
     "data": {
      "image/png": "[encoded data removed]",
      "text/plain": [
       "<Figure size 800x400 with 1 Axes>"
      ]
     },
     "metadata": {},
     "output_type": "display_data"
    }
   ],
   "source": [
    "suda_ranked = rankdata(suda['dis-score'])\n",
    "pif_ranked = rankdata(pif['RIG'])\n",
    "fig, ax = plt.subplots(figsize=(8, 4))\n",
    "ax.scatter(suda_ranked, pif_ranked, alpha=0.3, label='Ranked Data Points')\n",
    "slope, intercept, _, _, _ = linregress(suda_ranked, pif_ranked)\n",
    "ax.plot(suda_ranked, slope * suda_ranked + intercept, color='red', label='Trend Line')\n",
    "ax.set_title(f'Spearman Rank Correlation: {correlation_spearman:.2f}')\n",
    "ax.set_xlabel('Rank of suda[\"dis-score\"]')\n",
    "ax.set_ylabel('Rank of pif[\"RIG\"]')\n",
    "ax.grid(False)\n",
    "ax.legend()\n",
    "plt.show()"
   ]
  },
  {
   "cell_type": "code",
   "execution_count": 6,
   "id": "8b3f5969",
   "metadata": {},
   "outputs": [
    {
     "data": {
      "text/plain": [
       "ALC    28\n",
       "CTL    26\n",
       "Name: GROUP, dtype: int64"
      ]
     },
     "execution_count": 6,
     "metadata": {},
     "output_type": "execute_result"
    }
   ],
   "source": [
    "AL_IMAGE['GROUP'].value_counts()"
   ]
  },
  {
   "cell_type": "markdown",
   "id": "e643757d",
   "metadata": {},
   "source": [
    "# Outlier detection for SUDA & PIF"
   ]
  },
  {
   "cell_type": "code",
   "execution_count": 11,
   "id": "5f786647",
   "metadata": {},
   "outputs": [],
   "source": [
    "class_outliers, madn, mad, outlier_indices, above_outlier_indices = ST.rst_outlier_case2(suda, 'dis-score')"
   ]
  },
  {
   "cell_type": "code",
   "execution_count": 12,
   "id": "51d39ded",
   "metadata": {},
   "outputs": [
    {
     "name": "stdout",
     "output_type": "stream",
     "text": [
      "0\n"
     ]
    }
   ],
   "source": [
    "print(len(above_outlier_indices))"
   ]
  },
  {
   "cell_type": "code",
   "execution_count": 13,
   "id": "878fd893",
   "metadata": {},
   "outputs": [],
   "source": [
    "class_outliers, madn, mad, outlier_indices, above_outlier_indices = ST.rst_outlier_case2(pif, 'RIG')"
   ]
  },
  {
   "cell_type": "code",
   "execution_count": 14,
   "id": "023352c9",
   "metadata": {},
   "outputs": [
    {
     "name": "stdout",
     "output_type": "stream",
     "text": [
      "4\n"
     ]
    }
   ],
   "source": [
    "print(len(above_outlier_indices))"
   ]
  },
  {
   "cell_type": "code",
   "execution_count": 15,
   "id": "7b35d09a",
   "metadata": {},
   "outputs": [
    {
     "data": {
      "text/plain": [
       "[16, 30, 35, 41]"
      ]
     },
     "execution_count": 15,
     "metadata": {},
     "output_type": "execute_result"
    }
   ],
   "source": [
    "outlier_indices"
   ]
  },
  {
   "cell_type": "markdown",
   "id": "de7e6f45",
   "metadata": {},
   "source": [
    "## Selected outlier participant "
   ]
  },
  {
   "cell_type": "code",
   "execution_count": 31,
   "id": "b7bc14c2",
   "metadata": {},
   "outputs": [
    {
     "data": {
      "text/plain": [
       "participant_id    sub-031\n",
       "Original_ID         10632\n",
       "sex                     F\n",
       "age                    25\n",
       "GROUP                 ALC\n",
       "BDI                    14\n",
       "AUDIT                   5\n",
       "EDUCATION              15\n",
       "Name: 30, dtype: object"
      ]
     },
     "execution_count": 31,
     "metadata": {},
     "output_type": "execute_result"
    }
   ],
   "source": [
    "AL_IMAGE.loc[30]"
   ]
  },
  {
   "cell_type": "code",
   "execution_count": null,
   "id": "6125aeb0",
   "metadata": {},
   "outputs": [],
   "source": []
  }
 ],
 "metadata": {
  "kernelspec": {
   "display_name": "Python 3 (ipykernel)",
   "language": "python",
   "name": "python3"
  },
  "language_info": {
   "codemirror_mode": {
    "name": "ipython",
    "version": 3
   },
   "file_extension": ".py",
   "mimetype": "text/x-python",
   "name": "python",
   "nbconvert_exporter": "python",
   "pygments_lexer": "ipython3",
   "version": "3.7.12"
  }
 },
 "nbformat": 4,
 "nbformat_minor": 5
}
