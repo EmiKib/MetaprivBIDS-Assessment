{
 "cells": [
  {
   "cell_type": "markdown",
   "id": "dc737fd5",
   "metadata": {},
   "source": [
    "## Library Imports"
   ]
  },
  {
   "cell_type": "code",
   "execution_count": null,
   "id": "a6917166",
   "metadata": {},
   "outputs": [],
   "source": [
    "import pandas as pd\n",
    "import numpy as np\n",
    "import scipy.stats as stats\n",
    "import sys\n",
    "sys.path.append(\"..\")  \n",
    "import metaprivBIDS_stat as ST\n",
    "from metapriv_stat import plot_calc\n",
    "from metapriv_stat import rst_outlier_case2"
   ]
  },
  {
   "cell_type": "markdown",
   "id": "fba1b8e3",
   "metadata": {},
   "source": [
    "## File from OpenNeuro Import\n",
    "MULTI is the raw dataset \"Multivariate Assessment of Inhibitory Control in Youth: Links with Psychopathology and Brain Function Dataset\" taken from OpenNeuro. "
   ]
  },
  {
   "cell_type": "code",
   "execution_count": null,
   "id": "2be38c36",
   "metadata": {},
   "outputs": [],
   "source": [
    "MULTI = 'https://s3.amazonaws.com/openneuro.org/ds004935/participants.tsv?versionId=pKNEG7Cn89OmcUDIq5B13qzn9x5Uizlf'\n",
    "MULTI = pd.read_csv(MULTI, sep='\\t')\n",
    "WASI = 'https://s3.amazonaws.com/openneuro.org/ds004935/phenotype/WASI.tsv?versionId=FwdhWCxaUUiXmwoh6ELNocg3k84qoAjP'\n",
    "WASI = pd.read_csv(WASI, sep='\\t')\n",
    "MULTI = MULTI.merge(WASI[['participant_id', 'WASI_score']], on='participant_id', how='left')\n",
    "KSAD = 'https://s3.amazonaws.com/openneuro.org/ds004935/phenotype/KSADS.tsv?versionId=k4eJOEZkzDF2zpwsVFJgmS60AL6ObXVi'\n",
    "KSAD = pd.read_csv(KSAD, sep='\\t')\n",
    "MULTI = MULTI.merge(KSAD, on='participant_id', how='left')\n",
    "\n",
    "\n",
    "MULTI['income'] = MULTI['income'].replace(99, np.nan)\n",
    "MULTI['race'] = MULTI['race'].replace('UNKNOWN', np.nan)\n",
    "MULTI.to_csv('data_ds004935/MULTI_dataset_ds004935.csv', sep=',', index=False)"
   ]
  },
  {
   "cell_type": "markdown",
   "id": "7a274951",
   "metadata": {},
   "source": [
    "## Load in of results calculated using (MetaprivBIDS App)\n",
    "\n",
    "The selected quasi identifers are: \n",
    "- age\n",
    "- highest_education\n",
    "- income\n",
    "- race\n",
    "- ethnicity\n",
    "- sex\n",
    "\n",
    "The selected sensitive variables are:\n",
    "- race \n",
    "\n",
    "The dis-score fraction is the default 0.3 & missing values are indicated as NaN."
   ]
  },
  {
   "cell_type": "code",
   "execution_count": null,
   "id": "d0c80ef6",
   "metadata": {},
   "outputs": [],
   "source": [
    "suda = pd.read_csv('data_ds004935/suda_ds004935.csv', sep=',')\n",
    "pif = pd.read_csv('data_ds004935/pif_ds004935.csv', sep=',',index_col='Unnamed: 0').sort_index()\n",
    "suda_field_score =  pd.read_csv('data_ds004935/att_suda.csv', sep=',').drop(columns=['Unnamed: 0'], errors='ignore')\n",
    "k_combined_field =  pd.read_csv('data_ds004935/normalized_difference_results.csv', sep=',').drop(columns=['Difference in Unique Rows','Unique Rows After Removal']).rename(columns={'Column': 'variable'})\n",
    "k_combined_all = pd.read_csv('data_ds004935/k-combined-3-6.csv', sep=',')\n",
    "k_combined_field_non_risk = pd.read_csv('data_ds004935/normalized_difference_results_non.csv', sep=',').drop(columns=['Difference in Unique Rows','Unique Rows After Removal']).rename(columns={'Column': 'variable'})"
   ]
  },
  {
   "cell_type": "markdown",
   "id": "e84cf29b",
   "metadata": {},
   "source": [
    "## Using MetaprivBIDS stats import to calculate Pearson and Spearman correlation on field and row level."
   ]
  },
  {
   "cell_type": "code",
   "execution_count": null,
   "id": "51a34ea2",
   "metadata": {},
   "outputs": [],
   "source": [
    "ST.stats(suda, pif, suda_field_score, k_combined_field)"
   ]
  },
  {
   "cell_type": "markdown",
   "id": "4adb91d5",
   "metadata": {},
   "source": [
    "## Iterating through all possible combination of variables & calculating the correlation between SUDA, K-Global and PIF "
   ]
  },
  {
   "cell_type": "code",
   "execution_count": null,
   "id": "8d090f49",
   "metadata": {},
   "outputs": [],
   "source": [
    "sum_score_df  = ST.calculate_summed_dis_scores(k_combined_all, MULTI, sample_fraction=0.3, missing_value= np.nan)"
   ]
  },
  {
   "cell_type": "code",
   "execution_count": null,
   "id": "b8b1a890",
   "metadata": {},
   "outputs": [],
   "source": [
    "plot_calc(sum_score_df)"
   ]
  },
  {
   "cell_type": "markdown",
   "id": "49a8f657",
   "metadata": {},
   "source": [
    "# T-test between risky and non-risky k-global values for variables. \n"
   ]
  },
  {
   "cell_type": "markdown",
   "id": "0a7dba41",
   "metadata": {},
   "source": [
    "### Non risk variables"
   ]
  },
  {
   "cell_type": "code",
   "execution_count": null,
   "id": "f857cd8e",
   "metadata": {},
   "outputs": [],
   "source": [
    "k_combined_field_non_risk"
   ]
  },
  {
   "cell_type": "markdown",
   "id": "77cc34d6",
   "metadata": {},
   "source": [
    "# Risk Variables"
   ]
  },
  {
   "cell_type": "code",
   "execution_count": null,
   "id": "26a4a598",
   "metadata": {},
   "outputs": [],
   "source": [
    "k_combined_field"
   ]
  },
  {
   "cell_type": "markdown",
   "id": "04e6de38",
   "metadata": {},
   "source": [
    "## Result of Paired T-test"
   ]
  },
  {
   "cell_type": "code",
   "execution_count": null,
   "id": "723faf9a",
   "metadata": {},
   "outputs": [],
   "source": [
    "mean_risk_values = (k_combined_field['Normalized Difference']).mean()\n",
    "print('Mean, risk identifiers:',mean_risk_values)\n",
    "\n",
    "mean_risk_values = (k_combined_field_non_risk['Normalized Difference']).mean()\n",
    "print('Mean, non-risk identifiers:',mean_risk_values)\n",
    "\n",
    "t, p = stats.ttest_ind(k_combined_field['Normalized Difference'], k_combined_field_non_risk['Normalized Difference'])\n",
    "print('t:',t,'p-value:', p)"
   ]
  },
  {
   "cell_type": "markdown",
   "id": "331f4cc7",
   "metadata": {},
   "source": [
    "# Outlier detection for PIF & SUD"
   ]
  },
  {
   "cell_type": "code",
   "execution_count": null,
   "id": "b2e15216",
   "metadata": {},
   "outputs": [],
   "source": [
    "class_outliers, madn, mad, outlier_indices, above_outlier_indices = ST.rst_outlier_case2(suda, 'dis-score')\n",
    "print(len(above_outlier_indices))\n",
    "print(above_outlier_indices)\n",
    "\n",
    "class_outliers, madn, mad, outlier_indices, above_outlier_indices = rst_outlier_case2(pif, 'RIG')\n",
    "print(len(above_outlier_indices))\n",
    "\n",
    "print(above_outlier_indices)\n"
   ]
  },
  {
   "cell_type": "markdown",
   "id": "59d0d252",
   "metadata": {},
   "source": [
    "## Outlier Participant  "
   ]
  },
  {
   "cell_type": "code",
   "execution_count": null,
   "id": "e5244b40",
   "metadata": {},
   "outputs": [],
   "source": [
    "MULTI.loc[36]"
   ]
  },
  {
   "cell_type": "markdown",
   "id": "e9d153f9",
   "metadata": {},
   "source": [
    "## Outliers after improvements"
   ]
  },
  {
   "cell_type": "code",
   "execution_count": 77,
   "id": "550b9ee3",
   "metadata": {},
   "outputs": [],
   "source": [
    "suda = pd.read_csv('data_ds004935/suda_redone_ds004935.csv', sep=',')\n",
    "pif = pd.read_csv('data_ds004935/pif_redone_ds004935.csv', sep=',',index_col='Unnamed: 0').sort_index()"
   ]
  },
  {
   "cell_type": "code",
   "execution_count": 79,
   "id": "7617f942",
   "metadata": {},
   "outputs": [
    {
     "name": "stdout",
     "output_type": "stream",
     "text": [
      "45\n",
      "[3, 8, 10, 11, 12, 16, 17, 19, 24, 25, 36, 37, 52, 60, 63, 64, 93, 103, 106, 107, 108, 116, 117, 123, 126, 127, 128, 130, 133, 134, 139, 145, 146, 150, 152, 155, 165, 166, 171, 177, 181, 191, 207, 211, 218]\n",
      "28\n",
      "[3, 14, 15, 16, 17, 31, 32, 36, 52, 63, 64, 91, 93, 101, 106, 107, 116, 117, 123, 130, 139, 145, 150, 155, 171, 177, 181, 218]\n"
     ]
    }
   ],
   "source": [
    "class_outliers, madn, mad, outlier_indices, above_outlier_indices = ST.rst_outlier_case2(suda, 'dis-score')\n",
    "print(len(above_outlier_indices))\n",
    "print(above_outlier_indices)\n",
    "\n",
    "class_outliers, madn, mad, outlier_indices, above_outlier_indices = rst_outlier_case2(pif, 'RIG')\n",
    "print(len(above_outlier_indices))\n",
    "\n",
    "print(above_outlier_indices)\n"
   ]
  },
  {
   "cell_type": "code",
   "execution_count": null,
   "id": "0746da47",
   "metadata": {},
   "outputs": [],
   "source": []
  }
 ],
 "metadata": {
  "kernelspec": {
   "display_name": "Python 3 (ipykernel)",
   "language": "python",
   "name": "python3"
  },
  "language_info": {
   "codemirror_mode": {
    "name": "ipython",
    "version": 3
   },
   "file_extension": ".py",
   "mimetype": "text/x-python",
   "name": "python",
   "nbconvert_exporter": "python",
   "pygments_lexer": "ipython3",
   "version": "3.7.12"
  }
 },
 "nbformat": 4,
 "nbformat_minor": 5
}
