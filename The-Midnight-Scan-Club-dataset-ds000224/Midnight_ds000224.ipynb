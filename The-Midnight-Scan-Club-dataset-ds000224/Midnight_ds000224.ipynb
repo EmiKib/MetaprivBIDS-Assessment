{
 "cells": [
  {
   "cell_type": "markdown",
   "id": "3a1c8d77",
   "metadata": {},
   "source": [
    "## Library Imports"
   ]
  },
  {
   "cell_type": "code",
   "execution_count": 18,
   "id": "afcbaea9",
   "metadata": {},
   "outputs": [],
   "source": [
    "import pandas as pd\n",
    "from scipy.stats import spearmanr, kendalltau, linregress, rankdata\n",
    "import matplotlib.pyplot as plt\n",
    "import sys\n",
    "sys.path.append(\"..\")  \n",
    "import metaprivBIDS_stat as ST\n",
    "from metapriv_stat import plot_calc\n",
    "from metapriv_stat import rst_outlier_case2"
   ]
  },
  {
   "cell_type": "markdown",
   "id": "9e897a65",
   "metadata": {},
   "source": [
    "## File from OpenNeuro Import\n",
    "MID is the raw dataset \"The Midnight Scan Club (MSC) dataset\" taken from OpenNeuro. \n"
   ]
  },
  {
   "cell_type": "code",
   "execution_count": 4,
   "id": "9f71b7fa",
   "metadata": {},
   "outputs": [
    {
     "data": {
      "text/plain": [
       "Series([], dtype: float64)"
      ]
     },
     "execution_count": 4,
     "metadata": {},
     "output_type": "execute_result"
    }
   ],
   "source": [
    "MID = 'https://s3.amazonaws.com/openneuro.org/ds000224/participants.tsv?versionId=RaGnxcCJR.z4fAw6Ihy9D683s7p4deYL'\n",
    "MID = pd.read_csv(MID, sep='\\t')\n",
    "MID.to_csv('data_ds000224/midnight_dataset_ds003097.csv', sep=',', index=False)\n",
    "\n",
    "na_percentage = MID.isna().mean() * 100\n",
    "na_percentage = na_percentage[na_percentage >= 10].sort_values(ascending=False)\n",
    "na_percentage"
   ]
  },
  {
   "cell_type": "code",
   "execution_count": 16,
   "id": "d86f4d93",
   "metadata": {},
   "outputs": [
    {
     "data": {
      "text/html": [
       "<div>\n",
       "<style scoped>\n",
       "    .dataframe tbody tr th:only-of-type {\n",
       "        vertical-align: middle;\n",
       "    }\n",
       "\n",
       "    .dataframe tbody tr th {\n",
       "        vertical-align: top;\n",
       "    }\n",
       "\n",
       "    .dataframe thead th {\n",
       "        text-align: right;\n",
       "    }\n",
       "</style>\n",
       "<table border=\"1\" class=\"dataframe\">\n",
       "  <thead>\n",
       "    <tr style=\"text-align: right;\">\n",
       "      <th></th>\n",
       "      <th>participant_id</th>\n",
       "      <th>gender</th>\n",
       "      <th>age</th>\n",
       "      <th>education_degree</th>\n",
       "      <th>education_years</th>\n",
       "    </tr>\n",
       "  </thead>\n",
       "  <tbody>\n",
       "    <tr>\n",
       "      <th>0</th>\n",
       "      <td>sub-MSC01</td>\n",
       "      <td>M</td>\n",
       "      <td>34</td>\n",
       "      <td>Doctorate</td>\n",
       "      <td>22.0</td>\n",
       "    </tr>\n",
       "    <tr>\n",
       "      <th>1</th>\n",
       "      <td>sub-MSC02</td>\n",
       "      <td>M</td>\n",
       "      <td>34</td>\n",
       "      <td>Doctorate</td>\n",
       "      <td>28.0</td>\n",
       "    </tr>\n",
       "    <tr>\n",
       "      <th>2</th>\n",
       "      <td>sub-MSC03</td>\n",
       "      <td>F</td>\n",
       "      <td>29</td>\n",
       "      <td>Masters</td>\n",
       "      <td>18.0</td>\n",
       "    </tr>\n",
       "    <tr>\n",
       "      <th>3</th>\n",
       "      <td>sub-MSC04</td>\n",
       "      <td>F</td>\n",
       "      <td>28</td>\n",
       "      <td>Bachelors</td>\n",
       "      <td>22.0</td>\n",
       "    </tr>\n",
       "    <tr>\n",
       "      <th>4</th>\n",
       "      <td>sub-MSC05</td>\n",
       "      <td>M</td>\n",
       "      <td>27</td>\n",
       "      <td>Bachelors</td>\n",
       "      <td>20.0</td>\n",
       "    </tr>\n",
       "  </tbody>\n",
       "</table>\n",
       "</div>"
      ],
      "text/plain": [
       "  participant_id gender  age education_degree  education_years\n",
       "0      sub-MSC01      M   34        Doctorate             22.0\n",
       "1      sub-MSC02      M   34        Doctorate             28.0\n",
       "2      sub-MSC03      F   29          Masters             18.0\n",
       "3      sub-MSC04      F   28        Bachelors             22.0\n",
       "4      sub-MSC05      M   27        Bachelors             20.0"
      ]
     },
     "execution_count": 16,
     "metadata": {},
     "output_type": "execute_result"
    }
   ],
   "source": [
    "MID.head()"
   ]
  },
  {
   "cell_type": "markdown",
   "id": "7f306318",
   "metadata": {},
   "source": [
    "## Load in of results calculated using (MetaprivBIDS App)\n",
    "\n",
    "The selected quasi identifers are: \n",
    "- age\n",
    "- gender\n",
    "- education_degree\n",
    "- education_years\n",
    "\n",
    "\n",
    "\n",
    "The dis-score fraction is the default 0.3 & missing values are indicated as NaN."
   ]
  },
  {
   "cell_type": "code",
   "execution_count": 5,
   "id": "e3a4d605",
   "metadata": {},
   "outputs": [],
   "source": [
    "suda = pd.read_csv('data_ds000224/suda_ds000224.csv', sep=',')\n",
    "pif = pd.read_csv('data_ds000224/pif_ds000224.csv', sep=',',index_col='Unnamed: 0').sort_index()"
   ]
  },
  {
   "cell_type": "markdown",
   "id": "52557363",
   "metadata": {},
   "source": [
    "## Using MetaprivBIDS stats import to calculate Pearson and Spearman correlation on row level."
   ]
  },
  {
   "cell_type": "code",
   "execution_count": 6,
   "id": "05d9de68",
   "metadata": {},
   "outputs": [
    {
     "name": "stdout",
     "output_type": "stream",
     "text": [
      "Spearman Rank Correlation between suda & pif: 0.69\n",
      "Kendall's Tau between suda & pif: 0.63, p-value: 0.0245\n"
     ]
    }
   ],
   "source": [
    "# Spearman Rank Correlation\n",
    "correlation_spearman, _ = spearmanr(suda['score'], pif['RIG'])\n",
    "print(f\"Spearman Rank Correlation between suda & pif: {correlation_spearman:.2f}\")  \n",
    "    \n",
    "    \n",
    "# Kendall's Tau Correlation\n",
    "tau, p_value = kendalltau(suda['score'], pif['RIG'])\n",
    "print(f\"Kendall's Tau between suda & pif: {tau:.2f}, p-value: {p_value:.4f}\")"
   ]
  },
  {
   "cell_type": "code",
   "execution_count": 19,
   "id": "e80824e5",
   "metadata": {},
   "outputs": [
    {
     "name": "stderr",
     "output_type": "stream",
     "text": [
      "/Users/emiliekibsgaard/opt/anaconda3/envs/rpy2_env/lib/python3.7/site-packages/scipy/stats/_stats_mstats_common.py:170: RuntimeWarning: invalid value encountered in double_scalars\n",
      "  slope = ssxym / ssxm\n",
      "/Users/emiliekibsgaard/opt/anaconda3/envs/rpy2_env/lib/python3.7/site-packages/scipy/stats/_stats_mstats_common.py:187: RuntimeWarning: divide by zero encountered in double_scalars\n",
      "  slope_stderr = np.sqrt((1 - r**2) * ssym / ssxm / df)\n"
     ]
    },
    {
     "data": {
      "image/png": "[encoded data removed]",
      "text/plain": [
       "<Figure size 800x400 with 1 Axes>"
      ]
     },
     "metadata": {},
     "output_type": "display_data"
    }
   ],
   "source": [
    "suda_ranked = rankdata(suda['dis-score'])\n",
    "pif_ranked = rankdata(pif['RIG'])\n",
    "fig, ax = plt.subplots(figsize=(8, 4))\n",
    "ax.scatter(suda_ranked, pif_ranked, alpha=0.3, label='Ranked Data Points')\n",
    "slope, intercept, _, _, _ = linregress(suda_ranked, pif_ranked)\n",
    "ax.plot(suda_ranked, slope * suda_ranked + intercept, color='red', label='Trend Line')\n",
    "ax.set_title(f'Spearman Rank Correlation: {correlation_spearman:.2f}')\n",
    "ax.set_xlabel('Rank of suda[\"dis-score\"]')\n",
    "ax.set_ylabel('Rank of pif[\"RIG\"]')\n",
    "ax.grid(False)\n",
    "ax.legend()\n",
    "plt.show()"
   ]
  },
  {
   "cell_type": "markdown",
   "id": "66ff2dac",
   "metadata": {},
   "source": [
    "# Outlier detection for SUDA & PIF"
   ]
  },
  {
   "cell_type": "code",
   "execution_count": 12,
   "id": "18604eb4",
   "metadata": {},
   "outputs": [
    {
     "name": "stdout",
     "output_type": "stream",
     "text": [
      "0\n",
      "1\n"
     ]
    }
   ],
   "source": [
    "class_outliers, madn, mad, outlier_indices, above_outlier_indices = ST.rst_outlier_case2(suda, 'dis-score')\n",
    "print(len(above_outlier_indices))\n",
    "class_outliers, madn, mad, outlier_indices, above_outlier_indices = rst_outlier_case2(pif, 'RIG')\n",
    "print(len(above_outlier_indices))"
   ]
  },
  {
   "cell_type": "markdown",
   "id": "08991fef",
   "metadata": {},
   "source": [
    "### Chosen participant outlier"
   ]
  },
  {
   "cell_type": "code",
   "execution_count": 13,
   "id": "f24f4af8",
   "metadata": {},
   "outputs": [
    {
     "data": {
      "text/plain": [
       "participant_id      sub-MSC02\n",
       "gender                      M\n",
       "age                        34\n",
       "education_degree    Doctorate\n",
       "education_years          28.0\n",
       "Name: 1, dtype: object"
      ]
     },
     "execution_count": 13,
     "metadata": {},
     "output_type": "execute_result"
    }
   ],
   "source": [
    "MID.loc[1]"
   ]
  },
  {
   "cell_type": "code",
   "execution_count": null,
   "id": "e9401b66",
   "metadata": {},
   "outputs": [],
   "source": []
  }
 ],
 "metadata": {
  "kernelspec": {
   "display_name": "Python 3 (ipykernel)",
   "language": "python",
   "name": "python3"
  },
  "language_info": {
   "codemirror_mode": {
    "name": "ipython",
    "version": 3
   },
   "file_extension": ".py",
   "mimetype": "text/x-python",
   "name": "python",
   "nbconvert_exporter": "python",
   "pygments_lexer": "ipython3",
   "version": "3.7.12"
  }
 },
 "nbformat": 4,
 "nbformat_minor": 5
}
