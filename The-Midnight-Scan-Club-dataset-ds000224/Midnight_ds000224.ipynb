{
 "cells": [
  {
   "cell_type": "markdown",
   "id": "c3764731",
   "metadata": {},
   "source": [
    "## Library Imports"
   ]
  },
  {
   "cell_type": "code",
   "execution_count": 1,
   "id": "968de0ac",
   "metadata": {},
   "outputs": [
    {
     "ename": "ModuleNotFoundError",
     "evalue": "No module named 'metapriv_stat'",
     "output_type": "error",
     "traceback": [
      "\u001b[0;31m---------------------------------------------------------------------------\u001b[0m",
      "\u001b[0;31mModuleNotFoundError\u001b[0m                       Traceback (most recent call last)",
      "\u001b[0;32m<ipython-input-1-63dce5624ec7>\u001b[0m in \u001b[0;36m<module>\u001b[0;34m\u001b[0m\n\u001b[1;32m      5\u001b[0m \u001b[0msys\u001b[0m\u001b[0;34m.\u001b[0m\u001b[0mpath\u001b[0m\u001b[0;34m.\u001b[0m\u001b[0mappend\u001b[0m\u001b[0;34m(\u001b[0m\u001b[0;34m\"..\"\u001b[0m\u001b[0;34m)\u001b[0m\u001b[0;34m\u001b[0m\u001b[0;34m\u001b[0m\u001b[0m\n\u001b[1;32m      6\u001b[0m \u001b[0;32mimport\u001b[0m \u001b[0mmetaprivBIDS_stat\u001b[0m \u001b[0;32mas\u001b[0m \u001b[0mST\u001b[0m\u001b[0;34m\u001b[0m\u001b[0;34m\u001b[0m\u001b[0m\n\u001b[0;32m----> 7\u001b[0;31m \u001b[0;32mfrom\u001b[0m \u001b[0mmetapriv_stat\u001b[0m \u001b[0;32mimport\u001b[0m \u001b[0mplot_calc\u001b[0m\u001b[0;34m\u001b[0m\u001b[0;34m\u001b[0m\u001b[0m\n\u001b[0m\u001b[1;32m      8\u001b[0m \u001b[0;32mfrom\u001b[0m \u001b[0mmetapriv_stat\u001b[0m \u001b[0;32mimport\u001b[0m \u001b[0mrst_outlier_case2\u001b[0m\u001b[0;34m\u001b[0m\u001b[0;34m\u001b[0m\u001b[0m\n",
      "\u001b[0;31mModuleNotFoundError\u001b[0m: No module named 'metapriv_stat'"
     ]
    }
   ],
   "source": [
    "import pandas as pd\n",
    "from scipy.stats import spearmanr, kendalltau, linregress, rankdata\n",
    "import matplotlib.pyplot as plt\n",
    "import sys\n",
    "sys.path.append(\"..\")  \n",
    "import metaprivBIDS_stat as ST\n",
    "from metapriv_stat import plot_calc\n",
    "from metapriv_stat import rst_outlier_case2"
   ]
  },
  {
   "cell_type": "markdown",
   "id": "0f9f1159",
   "metadata": {},
   "source": [
    "## File from OpenNeuro Import\n",
    "MID is the raw dataset \"The Midnight Scan Club (MSC) dataset\" taken from OpenNeuro. \n"
   ]
  },
  {
   "cell_type": "code",
   "execution_count": null,
   "id": "a7969e77",
   "metadata": {},
   "outputs": [],
   "source": [
    "MID = 'https://s3.amazonaws.com/openneuro.org/ds000224/participants.tsv?versionId=RaGnxcCJR.z4fAw6Ihy9D683s7p4deYL'\n",
    "MID = pd.read_csv(MID, sep='\\t')\n",
    "MID.to_csv('data_ds000224/midnight_dataset_ds003097.csv', sep=',', index=False)\n",
    "\n",
    "na_percentage = MID.isna().mean() * 100\n",
    "na_percentage = na_percentage[na_percentage >= 10].sort_values(ascending=False)\n",
    "na_percentage"
   ]
  },
  {
   "cell_type": "code",
   "execution_count": null,
   "id": "b6022adf",
   "metadata": {},
   "outputs": [],
   "source": [
    "MID.head()"
   ]
  },
  {
   "cell_type": "markdown",
   "id": "771fc588",
   "metadata": {},
   "source": [
    "## Load in of results calculated using (MetaprivBIDS App)\n",
    "\n",
    "The selected quasi identifers are: \n",
    "- age\n",
    "- gender\n",
    "- education_degree\n",
    "- education_years\n",
    "\n",
    "\n",
    "\n",
    "The dis-score fraction is the default 0.3 & missing values are indicated as NaN."
   ]
  },
  {
   "cell_type": "code",
   "execution_count": 4,
   "id": "bdd60b97",
   "metadata": {},
   "outputs": [],
   "source": [
    "suda = pd.read_csv('data_ds000224/suda_ds000224.csv', sep=',')\n",
    "pif = pd.read_csv('data_ds000224/pif_ds000224.csv', sep=',',index_col='Unnamed: 0').sort_index()"
   ]
  },
  {
   "cell_type": "markdown",
   "id": "5894b45b",
   "metadata": {},
   "source": [
    "## Using MetaprivBIDS stats import to calculate Pearson and Spearman correlation on row level."
   ]
  },
  {
   "cell_type": "code",
   "execution_count": 5,
   "id": "46afd8d6",
   "metadata": {},
   "outputs": [
    {
     "name": "stdout",
     "output_type": "stream",
     "text": [
      "Spearman Rank Correlation between suda & pif: 0.69,0.03\n",
      "Kendall's Tau between suda & pif: 0.63, p-value: 0.0245\n"
     ]
    }
   ],
   "source": [
    "# Spearman Rank Correlation\n",
    "correlation_spearman, p_value = spearmanr(suda['score'], pif['RIG'])\n",
    "print(f\"Spearman Rank Correlation between suda & pif: {correlation_spearman:.2f},{p_value:.2f}\")  \n",
    "    \n",
    "    \n",
    "# Kendall's Tau Correlation\n",
    "tau, p_value = kendalltau(suda['score'], pif['RIG'])\n",
    "print(f\"Kendall's Tau between suda & pif: {tau:.2f}, p-value: {p_value:.4f}\")"
   ]
  },
  {
   "cell_type": "code",
   "execution_count": 6,
   "id": "7be3adaf",
   "metadata": {},
   "outputs": [
    {
     "name": "stderr",
     "output_type": "stream",
     "text": [
      "/Users/emiliekibsgaard/opt/anaconda3/lib/python3.7/site-packages/scipy/stats/_stats_mstats_common.py:170: RuntimeWarning: invalid value encountered in double_scalars\n",
      "  slope = ssxym / ssxm\n",
      "/Users/emiliekibsgaard/opt/anaconda3/lib/python3.7/site-packages/scipy/stats/_stats_mstats_common.py:187: RuntimeWarning: divide by zero encountered in double_scalars\n",
      "  slope_stderr = np.sqrt((1 - r**2) * ssym / ssxm / df)\n"
     ]
    },
    {
     "data": {
      "image/png": "[encoded data removed]",
      "text/plain": [
       "<Figure size 576x288 with 1 Axes>"
      ]
     },
     "metadata": {
      "needs_background": "light"
     },
     "output_type": "display_data"
    }
   ],
   "source": [
    "suda_ranked = rankdata(suda['dis-score'])\n",
    "pif_ranked = rankdata(pif['RIG'])\n",
    "fig, ax = plt.subplots(figsize=(8, 4))\n",
    "ax.scatter(suda_ranked, pif_ranked, alpha=0.3, label='Ranked Data Points')\n",
    "slope, intercept, _, _, _ = linregress(suda_ranked, pif_ranked)\n",
    "ax.plot(suda_ranked, slope * suda_ranked + intercept, color='red', label='Trend Line')\n",
    "ax.set_title(f'Spearman Rank Correlation: {correlation_spearman:.2f},{p_value:.2f}')\n",
    "ax.set_xlabel('Rank of suda[\"dis-score\"]')\n",
    "ax.set_ylabel('Rank of pif[\"RIG\"]')\n",
    "ax.grid(False)\n",
    "ax.legend()\n",
    "plt.show()"
   ]
  },
  {
   "cell_type": "markdown",
   "id": "82d23da1",
   "metadata": {},
   "source": [
    "# Outlier detection for SUDA & PIF"
   ]
  },
  {
   "cell_type": "code",
   "execution_count": 12,
   "id": "d21cce02",
   "metadata": {},
   "outputs": [
    {
     "name": "stdout",
     "output_type": "stream",
     "text": [
      "0\n",
      "1\n"
     ]
    }
   ],
   "source": [
    "class_outliers, madn, mad, outlier_indices, above_outlier_indices = ST.rst_outlier_case2(suda, 'dis-score')\n",
    "print(len(above_outlier_indices))\n",
    "class_outliers, madn, mad, outlier_indices, above_outlier_indices = rst_outlier_case2(pif, 'RIG')\n",
    "print(len(above_outlier_indices))"
   ]
  },
  {
   "cell_type": "markdown",
   "id": "9651937f",
   "metadata": {},
   "source": [
    "### Chosen participant outlier"
   ]
  },
  {
   "cell_type": "code",
   "execution_count": 13,
   "id": "ed22d09e",
   "metadata": {},
   "outputs": [
    {
     "data": {
      "text/plain": [
       "participant_id      sub-MSC02\n",
       "gender                      M\n",
       "age                        34\n",
       "education_degree    Doctorate\n",
       "education_years          28.0\n",
       "Name: 1, dtype: object"
      ]
     },
     "execution_count": 13,
     "metadata": {},
     "output_type": "execute_result"
    }
   ],
   "source": [
    "MID.loc[1]"
   ]
  },
  {
   "cell_type": "code",
   "execution_count": null,
   "id": "491bdfa2",
   "metadata": {},
   "outputs": [],
   "source": []
  }
 ],
 "metadata": {
  "kernelspec": {
   "display_name": "Python 3",
   "language": "python",
   "name": "python3"
  },
  "language_info": {
   "codemirror_mode": {
    "name": "ipython",
    "version": 3
   },
   "file_extension": ".py",
   "mimetype": "text/x-python",
   "name": "python",
   "nbconvert_exporter": "python",
   "pygments_lexer": "ipython3",
   "version": "3.7.4"
  }
 },
 "nbformat": 4,
 "nbformat_minor": 5
}
