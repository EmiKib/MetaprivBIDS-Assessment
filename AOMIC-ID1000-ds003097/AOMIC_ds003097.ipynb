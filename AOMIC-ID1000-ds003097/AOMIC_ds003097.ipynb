{
 "cells": [
  {
   "cell_type": "markdown",
   "id": "5df37c56",
   "metadata": {},
   "source": [
    "import dependencies"
   ]
  },
  {
   "cell_type": "code",
   "execution_count": null,
   "id": "2b0c0929",
   "metadata": {},
   "outputs": [
    {
     "ename": "",
     "evalue": "",
     "output_type": "error",
     "traceback": [
      "\u001b[1;31mRunning cells with 'spyder-6 (Python 3.11.9)' requires the ipykernel package.\n",
      "\u001b[1;31mRun the following command to install 'ipykernel' into the Python environment. \n",
      "\u001b[1;31mCommand: 'conda install -p c:\\Users\\cpernet\\AppData\\Local\\spyder-6 ipykernel --update-deps --force-reinstall'"
     ]
    }
   ],
   "source": [
    "import pandas as pd \n",
    "import numpy as np\n",
    "import scipy.stats as stats\n",
    "import warnings\n",
    "warnings.filterwarnings(\"ignore\", category=RuntimeWarning)"
   ]
  },
  {
   "cell_type": "code",
   "execution_count": 17,
   "id": "29659f6f",
   "metadata": {},
   "outputs": [],
   "source": [
    "import sys\n",
    "sys.path.append(\"/Users/emiliekibsgaard/Desktop/MetaprivBIDS-Assessment\")  \n",
    "import metapriv_stat as ST\n",
    "from metapriv_stat import plot_calc\n",
    "from metapriv_stat import rst_outlier_case2"
   ]
  },
  {
   "cell_type": "markdown",
   "id": "c9e12877",
   "metadata": {},
   "source": [
    "import participants.tsv from OpenNeuro, read and export as csv for later use"
   ]
  },
  {
   "cell_type": "code",
   "execution_count": 5,
   "id": "0bbbd049",
   "metadata": {},
   "outputs": [],
   "source": [
    "AOMIC = 'https://s3.amazonaws.com/openneuro.org/ds003097/participants.tsv?versionId=9gylMj_lF7dOQFiiUSuQ4OeHtgxzGUtv'\n",
    "\n",
    "AOMIC = pd.read_csv(AOMIC, sep='\\t')\n",
    "#AOMIC.replace(np.nan, -999, inplace=True)\n",
    "AOMIC.to_csv('data_ds003097/AOMIC_dataset_ds003097.csv', sep=',', index=False)"
   ]
  },
  {
   "cell_type": "markdown",
   "id": "b823cf37",
   "metadata": {},
   "source": [
    "check missing data"
   ]
  },
  {
   "cell_type": "code",
   "execution_count": null,
   "id": "aca44048",
   "metadata": {},
   "outputs": [],
   "source": [
    "na_percentage = AOMIC.isna().mean() * 100\n",
    "na_percentage = na_percentage[na_percentage >= 10].sort_values(ascending=False)\n",
    "na_percentage"
   ]
  },
  {
   "cell_type": "markdown",
   "id": "4395e574",
   "metadata": {},
   "source": [
    "Compute privacy scores and store them in a csv files for later use"
   ]
  },
  {
   "cell_type": "code",
   "execution_count": null,
   "id": "97a2a725",
   "metadata": {},
   "outputs": [],
   "source": []
  },
  {
   "cell_type": "markdown",
   "id": "2567d8d4",
   "metadata": {},
   "source": [
    "re-read the csv files -- allows bypassing the previous steps"
   ]
  },
  {
   "cell_type": "code",
   "execution_count": 9,
   "id": "40480680",
   "metadata": {},
   "outputs": [],
   "source": [
    "suda = pd.read_csv('data_ds003097/SUDA_ds003097.csv', sep=',')\n",
    "pif = pd.read_csv('data_ds003097/PIF_ds003097.csv', sep=',',index_col='Unnamed: 0').sort_index()\n",
    "suda_field_score =  pd.read_csv('data_ds003097/att_suda.csv', sep=',').drop(columns=['Unnamed: 0'], errors='ignore')\n",
    "k_combined_field =  pd.read_csv('data_ds003097/normalized_difference_results.csv', sep=',').drop(columns=['Difference in Unique Rows','Unique Rows After Removal']).rename(columns={'Column': 'variable'})\n",
    "k_combined_all = pd.read_csv('data_ds003097/k-combined-all-2-11.csv', sep=',')\n",
    "k_combined_field_non_risk = pd.read_csv('data_ds003097/normalized_difference_results_non.csv', sep=',').drop(columns=['Difference in Unique Rows','Unique Rows After Removal']).rename(columns={'Column': 'variable'})"
   ]
  },
  {
   "cell_type": "code",
   "execution_count": null,
   "id": "f56f8448",
   "metadata": {},
   "outputs": [],
   "source": [
    "AOMIC"
   ]
  },
  {
   "cell_type": "code",
   "execution_count": null,
   "id": "1ac4b096",
   "metadata": {},
   "outputs": [],
   "source": [
    "ST.stats(suda, pif, suda_field_score, k_combined_field)"
   ]
  },
  {
   "cell_type": "markdown",
   "id": "d3fbcf27",
   "metadata": {},
   "source": [
    "# WHOLE DATASET RISK VALUE SUM"
   ]
  },
  {
   "cell_type": "code",
   "execution_count": null,
   "id": "b6235895",
   "metadata": {},
   "outputs": [],
   "source": [
    "sum_score_df  = ST.calculate_summed_dis_scores(k_combined_all, AOMIC, sample_fraction=0.3, missing_value= np.nan)"
   ]
  },
  {
   "cell_type": "code",
   "execution_count": null,
   "id": "ce65810d",
   "metadata": {},
   "outputs": [],
   "source": [
    "plot_calc(sum_score_df)"
   ]
  },
  {
   "cell_type": "markdown",
   "id": "dff29cd2",
   "metadata": {},
   "source": [
    "## T-test between risky and non-risky k-global values for variables. "
   ]
  },
  {
   "cell_type": "markdown",
   "id": "a37a21c8",
   "metadata": {},
   "source": [
    "### Non risky variables"
   ]
  },
  {
   "cell_type": "code",
   "execution_count": null,
   "id": "fcc0e1f0",
   "metadata": {},
   "outputs": [],
   "source": [
    "k_combined_field_non_risk"
   ]
  },
  {
   "cell_type": "markdown",
   "id": "8c9cb78d",
   "metadata": {},
   "source": [
    "### Risk variables "
   ]
  },
  {
   "cell_type": "code",
   "execution_count": null,
   "id": "3dbc0d7e",
   "metadata": {},
   "outputs": [],
   "source": [
    "k_combined_field"
   ]
  },
  {
   "cell_type": "markdown",
   "id": "4231b6c4",
   "metadata": {},
   "source": [
    "## Test"
   ]
  },
  {
   "cell_type": "code",
   "execution_count": null,
   "id": "9facfe84",
   "metadata": {},
   "outputs": [],
   "source": [
    "mean_risk_values = (k_combined_field['Normalized Difference']).mean()\n",
    "print('Mean, risk identifiers:',mean_risk_values)"
   ]
  },
  {
   "cell_type": "code",
   "execution_count": null,
   "id": "40fc57aa",
   "metadata": {},
   "outputs": [],
   "source": [
    "mean_risk_values = (k_combined_field_non_risk['Normalized Difference']).mean()\n",
    "print('Mean, non-risk identifiers:',mean_risk_values)"
   ]
  },
  {
   "cell_type": "code",
   "execution_count": null,
   "id": "b57aef01",
   "metadata": {},
   "outputs": [],
   "source": [
    "t, p = stats.ttest_ind(k_combined_field['Normalized Difference'], k_combined_field_non_risk['Normalized Difference'])\n",
    "print('t:',t,'p-value:', p)"
   ]
  },
  {
   "cell_type": "markdown",
   "id": "75097321",
   "metadata": {},
   "source": [
    "### PIF & SUDA Outliers "
   ]
  },
  {
   "cell_type": "code",
   "execution_count": 18,
   "id": "ec4e23a9",
   "metadata": {},
   "outputs": [],
   "source": [
    "#SUDA\n",
    "class_outliers, madn, mad, outlier_indices, above_outlier_indices = ST.rst_outlier_case2(suda, 'dis-score')"
   ]
  },
  {
   "cell_type": "code",
   "execution_count": null,
   "id": "f29e50b4",
   "metadata": {},
   "outputs": [],
   "source": [
    "print(len(above_outlier_indices))"
   ]
  },
  {
   "cell_type": "code",
   "execution_count": null,
   "id": "7af4cf81",
   "metadata": {},
   "outputs": [],
   "source": [
    "#PIF\n",
    "class_outliers, madn, mad, outlier_indices, above_outlier_indices = rst_outlier_case2(pif, 'RIG')\n",
    "print(len(above_outlier_indices))"
   ]
  },
  {
   "cell_type": "code",
   "execution_count": null,
   "id": "82cc1f41",
   "metadata": {},
   "outputs": [],
   "source": [
    "AOMIC.loc[338]"
   ]
  },
  {
   "cell_type": "markdown",
   "id": "9179661a",
   "metadata": {},
   "source": [
    "## Improving Risk"
   ]
  },
  {
   "cell_type": "code",
   "execution_count": 22,
   "id": "b6639bb4",
   "metadata": {},
   "outputs": [],
   "source": [
    "suda_improved = pd.read_csv('data_ds003097/improved_suda.csv', sep=',')\n",
    "pif_improved = pd.read_csv('data_ds003097/improved_PIF.csv', sep=',',index_col='Unnamed: 0').sort_index()"
   ]
  },
  {
   "cell_type": "code",
   "execution_count": null,
   "id": "732638a5",
   "metadata": {},
   "outputs": [],
   "source": [
    "class_outliers, madn, mad, outlier_indices, above_outlier_indices = ST.rst_outlier_case2(suda_improved, 'dis-score')\n",
    "print(len(above_outlier_indices))"
   ]
  },
  {
   "cell_type": "code",
   "execution_count": null,
   "id": "01561047",
   "metadata": {},
   "outputs": [],
   "source": [
    "class_outliers, madn, mad, outlier_indices, above_outlier_indices = rst_outlier_case2(pif_improved, 'RIG')\n",
    "print(len(above_outlier_indices))"
   ]
  },
  {
   "cell_type": "code",
   "execution_count": null,
   "id": "29f41916",
   "metadata": {},
   "outputs": [],
   "source": []
  },
  {
   "cell_type": "code",
   "execution_count": null,
   "id": "e4d8191a",
   "metadata": {},
   "outputs": [],
   "source": []
  }
 ],
 "metadata": {
  "kernelspec": {
   "display_name": "Python 3",
   "language": "python",
   "name": "python3"
  },
  "language_info": {
   "codemirror_mode": {
    "name": "ipython",
    "version": 3
   },
   "file_extension": ".py",
   "mimetype": "text/x-python",
   "name": "python",
   "nbconvert_exporter": "python",
   "pygments_lexer": "ipython3",
   "version": "3.11.9"
  }
 },
 "nbformat": 4,
 "nbformat_minor": 5
}
