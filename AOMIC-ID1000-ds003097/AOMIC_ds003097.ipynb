{
 "cells": [
  {
   "cell_type": "code",
   "execution_count": 3,
   "id": "2b0c0929",
   "metadata": {},
   "outputs": [],
   "source": [
    "import pandas as pd \n",
    "import numpy as np\n",
    "import scipy.stats as stats"
   ]
  },
  {
   "cell_type": "code",
   "execution_count": 15,
   "id": "7c555477",
   "metadata": {},
   "outputs": [
    {
     "name": "stdout",
     "output_type": "stream",
     "text": [
      "/Users/emiliekibsgaard/Desktop/MetaprivBIDS-Assessment/AOMIC-ID1000-ds003097\r\n"
     ]
    }
   ],
   "source": [
    "!pwd"
   ]
  },
  {
   "cell_type": "code",
   "execution_count": 17,
   "id": "29659f6f",
   "metadata": {},
   "outputs": [],
   "source": [
    "import sys\n",
    "sys.path.append(\"/Users/emiliekibsgaard/Desktop/MetaprivBIDS-Assessment\")  \n",
    "import metapriv_stat as ST\n",
    "from metapriv_stat import plot_calc\n",
    "from metapriv_stat import rst_outlier_case2"
   ]
  },
  {
   "cell_type": "code",
   "execution_count": 5,
   "id": "0bbbd049",
   "metadata": {},
   "outputs": [],
   "source": [
    "AOMIC = 'https://s3.amazonaws.com/openneuro.org/ds003097/participants.tsv?versionId=9gylMj_lF7dOQFiiUSuQ4OeHtgxzGUtv'\n",
    "\n",
    "AOMIC = pd.read_csv(AOMIC, sep='\\t')\n",
    "#AOMIC.replace(np.nan, -999, inplace=True)\n",
    "AOMIC.to_csv('data_ds003097/AOMIC_dataset_ds003097.csv', sep=',', index=False)"
   ]
  },
  {
   "cell_type": "code",
   "execution_count": 182,
   "id": "aca44048",
   "metadata": {},
   "outputs": [
    {
     "data": {
      "text/plain": [
       "religious_importance    78.771552\n",
       "sexual_attraction_M     40.301724\n",
       "sexual_attraction_F     40.301724\n",
       "gender_identity_M       40.301724\n",
       "gender_identity_F       40.301724\n",
       "dtype: float64"
      ]
     },
     "execution_count": 182,
     "metadata": {},
     "output_type": "execute_result"
    }
   ],
   "source": [
    "na_percentage = AOMIC.isna().mean() * 100\n",
    "na_percentage = na_percentage[na_percentage >= 10].sort_values(ascending=False)\n",
    "na_percentage"
   ]
  },
  {
   "cell_type": "code",
   "execution_count": 9,
   "id": "40480680",
   "metadata": {},
   "outputs": [],
   "source": [
    "suda = pd.read_csv('data_ds003097/SUDA_ds003097.csv', sep=',')\n",
    "pif = pd.read_csv('data_ds003097/PIF_ds003097.csv', sep=',',index_col='Unnamed: 0').sort_index()\n",
    "suda_field_score =  pd.read_csv('data_ds003097/att_suda.csv', sep=',').drop(columns=['Unnamed: 0'], errors='ignore')\n",
    "k_combined_field =  pd.read_csv('data_ds003097/normalized_difference_results.csv', sep=',').drop(columns=['Difference in Unique Rows','Unique Rows After Removal']).rename(columns={'Column': 'variable'})\n",
    "k_combined_all = pd.read_csv('data_ds003097/k-combined-all-2-11.csv', sep=',')\n",
    "k_combined_field_non_risk = pd.read_csv('data_ds003097/normalized_difference_results_non.csv', sep=',').drop(columns=['Difference in Unique Rows','Unique Rows After Removal']).rename(columns={'Column': 'variable'})"
   ]
  },
  {
   "cell_type": "code",
   "execution_count": 10,
   "id": "f56f8448",
   "metadata": {},
   "outputs": [
    {
     "data": {
      "text/html": [
       "<div>\n",
       "<style scoped>\n",
       "    .dataframe tbody tr th:only-of-type {\n",
       "        vertical-align: middle;\n",
       "    }\n",
       "\n",
       "    .dataframe tbody tr th {\n",
       "        vertical-align: top;\n",
       "    }\n",
       "\n",
       "    .dataframe thead th {\n",
       "        text-align: right;\n",
       "    }\n",
       "</style>\n",
       "<table border=\"1\" class=\"dataframe\">\n",
       "  <thead>\n",
       "    <tr style=\"text-align: right;\">\n",
       "      <th></th>\n",
       "      <th>participant_id</th>\n",
       "      <th>age</th>\n",
       "      <th>sex</th>\n",
       "      <th>handedness</th>\n",
       "      <th>BMI</th>\n",
       "      <th>education_level</th>\n",
       "      <th>background_SES</th>\n",
       "      <th>IST_fluid</th>\n",
       "      <th>IST_memory</th>\n",
       "      <th>IST_crystallised</th>\n",
       "      <th>...</th>\n",
       "      <th>sexual_attraction_M</th>\n",
       "      <th>sexual_attraction_F</th>\n",
       "      <th>gender_identity_M</th>\n",
       "      <th>gender_identity_F</th>\n",
       "      <th>religious_upbringing</th>\n",
       "      <th>religious_now</th>\n",
       "      <th>religious_importance</th>\n",
       "      <th>DWI_TR_run1</th>\n",
       "      <th>DWI_TR_run2</th>\n",
       "      <th>DWI_TR_run3</th>\n",
       "    </tr>\n",
       "  </thead>\n",
       "  <tbody>\n",
       "    <tr>\n",
       "      <th>0</th>\n",
       "      <td>sub-0001</td>\n",
       "      <td>22.00</td>\n",
       "      <td>female</td>\n",
       "      <td>right</td>\n",
       "      <td>23</td>\n",
       "      <td>medium</td>\n",
       "      <td>2.0</td>\n",
       "      <td>77.0</td>\n",
       "      <td>49.0</td>\n",
       "      <td>33.0</td>\n",
       "      <td>...</td>\n",
       "      <td>7.0</td>\n",
       "      <td>1.0</td>\n",
       "      <td>1.0</td>\n",
       "      <td>7.0</td>\n",
       "      <td>no</td>\n",
       "      <td>yes</td>\n",
       "      <td>2.0</td>\n",
       "      <td>6.312</td>\n",
       "      <td>6.312</td>\n",
       "      <td>6.312</td>\n",
       "    </tr>\n",
       "    <tr>\n",
       "      <th>1</th>\n",
       "      <td>sub-0002</td>\n",
       "      <td>21.75</td>\n",
       "      <td>female</td>\n",
       "      <td>right</td>\n",
       "      <td>20</td>\n",
       "      <td>medium</td>\n",
       "      <td>5.5</td>\n",
       "      <td>97.0</td>\n",
       "      <td>63.0</td>\n",
       "      <td>39.0</td>\n",
       "      <td>...</td>\n",
       "      <td>7.0</td>\n",
       "      <td>1.0</td>\n",
       "      <td>2.0</td>\n",
       "      <td>7.0</td>\n",
       "      <td>no</td>\n",
       "      <td>no</td>\n",
       "      <td>NaN</td>\n",
       "      <td>NaN</td>\n",
       "      <td>6.311</td>\n",
       "      <td>6.311</td>\n",
       "    </tr>\n",
       "    <tr>\n",
       "      <th>2</th>\n",
       "      <td>sub-0003</td>\n",
       "      <td>25.25</td>\n",
       "      <td>female</td>\n",
       "      <td>right</td>\n",
       "      <td>31</td>\n",
       "      <td>high</td>\n",
       "      <td>3.0</td>\n",
       "      <td>122.0</td>\n",
       "      <td>67.0</td>\n",
       "      <td>38.0</td>\n",
       "      <td>...</td>\n",
       "      <td>6.0</td>\n",
       "      <td>3.0</td>\n",
       "      <td>1.0</td>\n",
       "      <td>6.0</td>\n",
       "      <td>no</td>\n",
       "      <td>no</td>\n",
       "      <td>NaN</td>\n",
       "      <td>6.312</td>\n",
       "      <td>6.312</td>\n",
       "      <td>6.312</td>\n",
       "    </tr>\n",
       "    <tr>\n",
       "      <th>3</th>\n",
       "      <td>sub-0004</td>\n",
       "      <td>22.50</td>\n",
       "      <td>female</td>\n",
       "      <td>right</td>\n",
       "      <td>20</td>\n",
       "      <td>high</td>\n",
       "      <td>5.0</td>\n",
       "      <td>149.0</td>\n",
       "      <td>69.0</td>\n",
       "      <td>52.0</td>\n",
       "      <td>...</td>\n",
       "      <td>6.0</td>\n",
       "      <td>2.0</td>\n",
       "      <td>1.0</td>\n",
       "      <td>7.0</td>\n",
       "      <td>yes</td>\n",
       "      <td>no</td>\n",
       "      <td>NaN</td>\n",
       "      <td>6.311</td>\n",
       "      <td>6.311</td>\n",
       "      <td>6.311</td>\n",
       "    </tr>\n",
       "    <tr>\n",
       "      <th>4</th>\n",
       "      <td>sub-0005</td>\n",
       "      <td>22.25</td>\n",
       "      <td>male</td>\n",
       "      <td>right</td>\n",
       "      <td>23</td>\n",
       "      <td>high</td>\n",
       "      <td>4.5</td>\n",
       "      <td>112.0</td>\n",
       "      <td>57.0</td>\n",
       "      <td>43.0</td>\n",
       "      <td>...</td>\n",
       "      <td>1.0</td>\n",
       "      <td>7.0</td>\n",
       "      <td>6.0</td>\n",
       "      <td>1.0</td>\n",
       "      <td>no</td>\n",
       "      <td>no</td>\n",
       "      <td>NaN</td>\n",
       "      <td>6.311</td>\n",
       "      <td>6.311</td>\n",
       "      <td>6.311</td>\n",
       "    </tr>\n",
       "    <tr>\n",
       "      <th>...</th>\n",
       "      <td>...</td>\n",
       "      <td>...</td>\n",
       "      <td>...</td>\n",
       "      <td>...</td>\n",
       "      <td>...</td>\n",
       "      <td>...</td>\n",
       "      <td>...</td>\n",
       "      <td>...</td>\n",
       "      <td>...</td>\n",
       "      <td>...</td>\n",
       "      <td>...</td>\n",
       "      <td>...</td>\n",
       "      <td>...</td>\n",
       "      <td>...</td>\n",
       "      <td>...</td>\n",
       "      <td>...</td>\n",
       "      <td>...</td>\n",
       "      <td>...</td>\n",
       "      <td>...</td>\n",
       "      <td>...</td>\n",
       "      <td>...</td>\n",
       "    </tr>\n",
       "    <tr>\n",
       "      <th>923</th>\n",
       "      <td>sub-0924</td>\n",
       "      <td>22.25</td>\n",
       "      <td>male</td>\n",
       "      <td>right</td>\n",
       "      <td>21</td>\n",
       "      <td>medium</td>\n",
       "      <td>3.0</td>\n",
       "      <td>136.0</td>\n",
       "      <td>56.0</td>\n",
       "      <td>54.0</td>\n",
       "      <td>...</td>\n",
       "      <td>2.0</td>\n",
       "      <td>6.0</td>\n",
       "      <td>4.0</td>\n",
       "      <td>4.0</td>\n",
       "      <td>no</td>\n",
       "      <td>no</td>\n",
       "      <td>NaN</td>\n",
       "      <td>6.374</td>\n",
       "      <td>6.374</td>\n",
       "      <td>6.374</td>\n",
       "    </tr>\n",
       "    <tr>\n",
       "      <th>924</th>\n",
       "      <td>sub-0925</td>\n",
       "      <td>25.25</td>\n",
       "      <td>male</td>\n",
       "      <td>right</td>\n",
       "      <td>30</td>\n",
       "      <td>medium</td>\n",
       "      <td>4.0</td>\n",
       "      <td>64.0</td>\n",
       "      <td>37.0</td>\n",
       "      <td>49.0</td>\n",
       "      <td>...</td>\n",
       "      <td>1.0</td>\n",
       "      <td>7.0</td>\n",
       "      <td>7.0</td>\n",
       "      <td>1.0</td>\n",
       "      <td>no</td>\n",
       "      <td>no</td>\n",
       "      <td>NaN</td>\n",
       "      <td>6.311</td>\n",
       "      <td>6.311</td>\n",
       "      <td>6.311</td>\n",
       "    </tr>\n",
       "    <tr>\n",
       "      <th>925</th>\n",
       "      <td>sub-0926</td>\n",
       "      <td>20.75</td>\n",
       "      <td>male</td>\n",
       "      <td>right</td>\n",
       "      <td>22</td>\n",
       "      <td>high</td>\n",
       "      <td>2.0</td>\n",
       "      <td>84.0</td>\n",
       "      <td>44.0</td>\n",
       "      <td>33.0</td>\n",
       "      <td>...</td>\n",
       "      <td>NaN</td>\n",
       "      <td>NaN</td>\n",
       "      <td>NaN</td>\n",
       "      <td>NaN</td>\n",
       "      <td>yes</td>\n",
       "      <td>yes</td>\n",
       "      <td>5.0</td>\n",
       "      <td>6.312</td>\n",
       "      <td>6.312</td>\n",
       "      <td>6.312</td>\n",
       "    </tr>\n",
       "    <tr>\n",
       "      <th>926</th>\n",
       "      <td>sub-0927</td>\n",
       "      <td>24.25</td>\n",
       "      <td>female</td>\n",
       "      <td>right</td>\n",
       "      <td>35</td>\n",
       "      <td>medium</td>\n",
       "      <td>2.5</td>\n",
       "      <td>98.0</td>\n",
       "      <td>57.0</td>\n",
       "      <td>35.0</td>\n",
       "      <td>...</td>\n",
       "      <td>7.0</td>\n",
       "      <td>2.0</td>\n",
       "      <td>1.0</td>\n",
       "      <td>7.0</td>\n",
       "      <td>no</td>\n",
       "      <td>no</td>\n",
       "      <td>NaN</td>\n",
       "      <td>6.311</td>\n",
       "      <td>6.311</td>\n",
       "      <td>6.311</td>\n",
       "    </tr>\n",
       "    <tr>\n",
       "      <th>927</th>\n",
       "      <td>sub-0928</td>\n",
       "      <td>20.50</td>\n",
       "      <td>male</td>\n",
       "      <td>left</td>\n",
       "      <td>19</td>\n",
       "      <td>high</td>\n",
       "      <td>5.0</td>\n",
       "      <td>135.0</td>\n",
       "      <td>59.0</td>\n",
       "      <td>49.0</td>\n",
       "      <td>...</td>\n",
       "      <td>NaN</td>\n",
       "      <td>NaN</td>\n",
       "      <td>NaN</td>\n",
       "      <td>NaN</td>\n",
       "      <td>no</td>\n",
       "      <td>no</td>\n",
       "      <td>NaN</td>\n",
       "      <td>6.374</td>\n",
       "      <td>6.374</td>\n",
       "      <td>6.374</td>\n",
       "    </tr>\n",
       "  </tbody>\n",
       "</table>\n",
       "<p>928 rows × 31 columns</p>\n",
       "</div>"
      ],
      "text/plain": [
       "    participant_id    age     sex handedness  BMI education_level  \\\n",
       "0         sub-0001  22.00  female      right   23          medium   \n",
       "1         sub-0002  21.75  female      right   20          medium   \n",
       "2         sub-0003  25.25  female      right   31            high   \n",
       "3         sub-0004  22.50  female      right   20            high   \n",
       "4         sub-0005  22.25    male      right   23            high   \n",
       "..             ...    ...     ...        ...  ...             ...   \n",
       "923       sub-0924  22.25    male      right   21          medium   \n",
       "924       sub-0925  25.25    male      right   30          medium   \n",
       "925       sub-0926  20.75    male      right   22            high   \n",
       "926       sub-0927  24.25  female      right   35          medium   \n",
       "927       sub-0928  20.50    male       left   19            high   \n",
       "\n",
       "     background_SES  IST_fluid  IST_memory  IST_crystallised  ...  \\\n",
       "0               2.0       77.0        49.0              33.0  ...   \n",
       "1               5.5       97.0        63.0              39.0  ...   \n",
       "2               3.0      122.0        67.0              38.0  ...   \n",
       "3               5.0      149.0        69.0              52.0  ...   \n",
       "4               4.5      112.0        57.0              43.0  ...   \n",
       "..              ...        ...         ...               ...  ...   \n",
       "923             3.0      136.0        56.0              54.0  ...   \n",
       "924             4.0       64.0        37.0              49.0  ...   \n",
       "925             2.0       84.0        44.0              33.0  ...   \n",
       "926             2.5       98.0        57.0              35.0  ...   \n",
       "927             5.0      135.0        59.0              49.0  ...   \n",
       "\n",
       "     sexual_attraction_M  sexual_attraction_F  gender_identity_M  \\\n",
       "0                    7.0                  1.0                1.0   \n",
       "1                    7.0                  1.0                2.0   \n",
       "2                    6.0                  3.0                1.0   \n",
       "3                    6.0                  2.0                1.0   \n",
       "4                    1.0                  7.0                6.0   \n",
       "..                   ...                  ...                ...   \n",
       "923                  2.0                  6.0                4.0   \n",
       "924                  1.0                  7.0                7.0   \n",
       "925                  NaN                  NaN                NaN   \n",
       "926                  7.0                  2.0                1.0   \n",
       "927                  NaN                  NaN                NaN   \n",
       "\n",
       "     gender_identity_F  religious_upbringing  religious_now  \\\n",
       "0                  7.0                    no            yes   \n",
       "1                  7.0                    no             no   \n",
       "2                  6.0                    no             no   \n",
       "3                  7.0                   yes             no   \n",
       "4                  1.0                    no             no   \n",
       "..                 ...                   ...            ...   \n",
       "923                4.0                    no             no   \n",
       "924                1.0                    no             no   \n",
       "925                NaN                   yes            yes   \n",
       "926                7.0                    no             no   \n",
       "927                NaN                    no             no   \n",
       "\n",
       "     religious_importance  DWI_TR_run1  DWI_TR_run2  DWI_TR_run3  \n",
       "0                     2.0        6.312        6.312        6.312  \n",
       "1                     NaN          NaN        6.311        6.311  \n",
       "2                     NaN        6.312        6.312        6.312  \n",
       "3                     NaN        6.311        6.311        6.311  \n",
       "4                     NaN        6.311        6.311        6.311  \n",
       "..                    ...          ...          ...          ...  \n",
       "923                   NaN        6.374        6.374        6.374  \n",
       "924                   NaN        6.311        6.311        6.311  \n",
       "925                   5.0        6.312        6.312        6.312  \n",
       "926                   NaN        6.311        6.311        6.311  \n",
       "927                   NaN        6.374        6.374        6.374  \n",
       "\n",
       "[928 rows x 31 columns]"
      ]
     },
     "execution_count": 10,
     "metadata": {},
     "output_type": "execute_result"
    }
   ],
   "source": [
    "AOMIC"
   ]
  },
  {
   "cell_type": "code",
   "execution_count": 73,
   "id": "1ac4b096",
   "metadata": {},
   "outputs": [
    {
     "name": "stdout",
     "output_type": "stream",
     "text": [
      "\n",
      "========================================\n",
      "        ROW LEVEL CORRELATION      \n",
      "========================================\n",
      "\n",
      "Spearman Rank Correlation between suda & pif: 0.76\n",
      "Kendall's Tau between suda & pif: 0.61, p-value: 0.0000\n"
     ]
    },
    {
     "data": {
      "image/png": "[encoded data removed]",
      "text/plain": [
       "<Figure size 800x400 with 1 Axes>"
      ]
     },
     "metadata": {},
     "output_type": "display_data"
    },
    {
     "name": "stdout",
     "output_type": "stream",
     "text": [
      "____________________________________________________________________________________\n",
      "\n",
      "========================================\n",
      "      FIELD LEVEL CORRELATIONS     \n",
      "========================================\n",
      "\n",
      "Pearson Correlation between SUDA & PIF field level: 0.72\n",
      "Pearson Correlation between K-combined & PIF field level: 0.43\n",
      "Pearson Correlation between SUDA & K-combined field level: -0.02\n",
      "\n",
      "\n",
      "Spearman Rank Correlation between PIF & SUDA: 0.72\n",
      "Spearman Rank Correlation between PIF & K: 0.27\n",
      "Spearman Rank Correlation between SUDA & K: 0.01\n"
     ]
    }
   ],
   "source": [
    "ST.stats(suda, pif, suda_field_score, k_combined_field)"
   ]
  },
  {
   "cell_type": "markdown",
   "id": "d3fbcf27",
   "metadata": {},
   "source": [
    "# WHOLE DATASET RISK VALUE SUM"
   ]
  },
  {
   "cell_type": "code",
   "execution_count": null,
   "id": "b6235895",
   "metadata": {},
   "outputs": [],
   "source": [
    "sum_score_df  = ST.calculate_summed_dis_scores(k_combined_all, AOMIC, sample_fraction=0.3, missing_value= np.nan)"
   ]
  },
  {
   "cell_type": "code",
   "execution_count": null,
   "id": "ce65810d",
   "metadata": {},
   "outputs": [],
   "source": [
    "plot_calc(sum_score_df)"
   ]
  },
  {
   "cell_type": "markdown",
   "id": "dff29cd2",
   "metadata": {},
   "source": [
    "## T-test between risky and non-risky k-global values for variables. "
   ]
  },
  {
   "cell_type": "markdown",
   "id": "a37a21c8",
   "metadata": {},
   "source": [
    "### Non risky variables"
   ]
  },
  {
   "cell_type": "code",
   "execution_count": 75,
   "id": "fcc0e1f0",
   "metadata": {},
   "outputs": [
    {
     "data": {
      "text/html": [
       "<div>\n",
       "<style scoped>\n",
       "    .dataframe tbody tr th:only-of-type {\n",
       "        vertical-align: middle;\n",
       "    }\n",
       "\n",
       "    .dataframe tbody tr th {\n",
       "        vertical-align: top;\n",
       "    }\n",
       "\n",
       "    .dataframe thead th {\n",
       "        text-align: right;\n",
       "    }\n",
       "</style>\n",
       "<table border=\"1\" class=\"dataframe\">\n",
       "  <thead>\n",
       "    <tr style=\"text-align: right;\">\n",
       "      <th></th>\n",
       "      <th>variable</th>\n",
       "      <th>Normalized Difference</th>\n",
       "    </tr>\n",
       "  </thead>\n",
       "  <tbody>\n",
       "    <tr>\n",
       "      <th>0</th>\n",
       "      <td>BAS_reward</td>\n",
       "      <td>0.0</td>\n",
       "    </tr>\n",
       "    <tr>\n",
       "      <th>1</th>\n",
       "      <td>BAS_drive</td>\n",
       "      <td>0.0</td>\n",
       "    </tr>\n",
       "    <tr>\n",
       "      <th>2</th>\n",
       "      <td>BAS_fun</td>\n",
       "      <td>0.0</td>\n",
       "    </tr>\n",
       "    <tr>\n",
       "      <th>3</th>\n",
       "      <td>BIS</td>\n",
       "      <td>0.0</td>\n",
       "    </tr>\n",
       "    <tr>\n",
       "      <th>4</th>\n",
       "      <td>BMI</td>\n",
       "      <td>0.0</td>\n",
       "    </tr>\n",
       "    <tr>\n",
       "      <th>5</th>\n",
       "      <td>IST_fluid</td>\n",
       "      <td>0.0</td>\n",
       "    </tr>\n",
       "    <tr>\n",
       "      <th>6</th>\n",
       "      <td>IST_crystallised</td>\n",
       "      <td>0.0</td>\n",
       "    </tr>\n",
       "    <tr>\n",
       "      <th>7</th>\n",
       "      <td>STAI_T</td>\n",
       "      <td>0.0</td>\n",
       "    </tr>\n",
       "    <tr>\n",
       "      <th>8</th>\n",
       "      <td>IST_memory</td>\n",
       "      <td>0.0</td>\n",
       "    </tr>\n",
       "    <tr>\n",
       "      <th>9</th>\n",
       "      <td>NEO_O</td>\n",
       "      <td>0.0</td>\n",
       "    </tr>\n",
       "    <tr>\n",
       "      <th>10</th>\n",
       "      <td>NEO_N</td>\n",
       "      <td>0.0</td>\n",
       "    </tr>\n",
       "    <tr>\n",
       "      <th>11</th>\n",
       "      <td>NEO_E</td>\n",
       "      <td>0.0</td>\n",
       "    </tr>\n",
       "    <tr>\n",
       "      <th>12</th>\n",
       "      <td>NEO_A</td>\n",
       "      <td>0.0</td>\n",
       "    </tr>\n",
       "    <tr>\n",
       "      <th>13</th>\n",
       "      <td>NEO_C</td>\n",
       "      <td>0.0</td>\n",
       "    </tr>\n",
       "    <tr>\n",
       "      <th>14</th>\n",
       "      <td>IST_intelligence_total</td>\n",
       "      <td>0.0</td>\n",
       "    </tr>\n",
       "    <tr>\n",
       "      <th>15</th>\n",
       "      <td>religious_importance</td>\n",
       "      <td>0.0</td>\n",
       "    </tr>\n",
       "    <tr>\n",
       "      <th>16</th>\n",
       "      <td>religious_upbringing</td>\n",
       "      <td>0.0</td>\n",
       "    </tr>\n",
       "    <tr>\n",
       "      <th>17</th>\n",
       "      <td>religious_now</td>\n",
       "      <td>0.0</td>\n",
       "    </tr>\n",
       "  </tbody>\n",
       "</table>\n",
       "</div>"
      ],
      "text/plain": [
       "                  variable  Normalized Difference\n",
       "0               BAS_reward                    0.0\n",
       "1                BAS_drive                    0.0\n",
       "2                  BAS_fun                    0.0\n",
       "3                      BIS                    0.0\n",
       "4                      BMI                    0.0\n",
       "5                IST_fluid                    0.0\n",
       "6         IST_crystallised                    0.0\n",
       "7                   STAI_T                    0.0\n",
       "8               IST_memory                    0.0\n",
       "9                    NEO_O                    0.0\n",
       "10                   NEO_N                    0.0\n",
       "11                   NEO_E                    0.0\n",
       "12                   NEO_A                    0.0\n",
       "13                   NEO_C                    0.0\n",
       "14  IST_intelligence_total                    0.0\n",
       "15    religious_importance                    0.0\n",
       "16    religious_upbringing                    0.0\n",
       "17           religious_now                    0.0"
      ]
     },
     "execution_count": 75,
     "metadata": {},
     "output_type": "execute_result"
    }
   ],
   "source": [
    "k_combined_field_non_risk"
   ]
  },
  {
   "cell_type": "markdown",
   "id": "8c9cb78d",
   "metadata": {},
   "source": [
    "### Risk variables "
   ]
  },
  {
   "cell_type": "code",
   "execution_count": 333,
   "id": "3dbc0d7e",
   "metadata": {},
   "outputs": [
    {
     "data": {
      "text/html": [
       "<div>\n",
       "<style scoped>\n",
       "    .dataframe tbody tr th:only-of-type {\n",
       "        vertical-align: middle;\n",
       "    }\n",
       "\n",
       "    .dataframe tbody tr th {\n",
       "        vertical-align: top;\n",
       "    }\n",
       "\n",
       "    .dataframe thead th {\n",
       "        text-align: right;\n",
       "    }\n",
       "</style>\n",
       "<table border=\"1\" class=\"dataframe\">\n",
       "  <thead>\n",
       "    <tr style=\"text-align: right;\">\n",
       "      <th></th>\n",
       "      <th>variable</th>\n",
       "      <th>Normalized Difference</th>\n",
       "    </tr>\n",
       "  </thead>\n",
       "  <tbody>\n",
       "    <tr>\n",
       "      <th>0</th>\n",
       "      <td>education_level</td>\n",
       "      <td>42.7</td>\n",
       "    </tr>\n",
       "    <tr>\n",
       "      <th>1</th>\n",
       "      <td>background_SES</td>\n",
       "      <td>41.8</td>\n",
       "    </tr>\n",
       "    <tr>\n",
       "      <th>2</th>\n",
       "      <td>sex</td>\n",
       "      <td>34.0</td>\n",
       "    </tr>\n",
       "    <tr>\n",
       "      <th>3</th>\n",
       "      <td>handedness</td>\n",
       "      <td>18.5</td>\n",
       "    </tr>\n",
       "    <tr>\n",
       "      <th>4</th>\n",
       "      <td>age</td>\n",
       "      <td>18.3</td>\n",
       "    </tr>\n",
       "    <tr>\n",
       "      <th>5</th>\n",
       "      <td>gender_identity_M</td>\n",
       "      <td>2.4</td>\n",
       "    </tr>\n",
       "    <tr>\n",
       "      <th>6</th>\n",
       "      <td>gender_identity_F</td>\n",
       "      <td>1.0</td>\n",
       "    </tr>\n",
       "    <tr>\n",
       "      <th>7</th>\n",
       "      <td>sexual_attraction_M</td>\n",
       "      <td>0.3</td>\n",
       "    </tr>\n",
       "    <tr>\n",
       "      <th>8</th>\n",
       "      <td>sexual_attraction_F</td>\n",
       "      <td>0.3</td>\n",
       "    </tr>\n",
       "  </tbody>\n",
       "</table>\n",
       "</div>"
      ],
      "text/plain": [
       "              variable  Normalized Difference\n",
       "0      education_level                   42.7\n",
       "1       background_SES                   41.8\n",
       "2                  sex                   34.0\n",
       "3           handedness                   18.5\n",
       "4                  age                   18.3\n",
       "5    gender_identity_M                    2.4\n",
       "6    gender_identity_F                    1.0\n",
       "7  sexual_attraction_M                    0.3\n",
       "8  sexual_attraction_F                    0.3"
      ]
     },
     "execution_count": 333,
     "metadata": {},
     "output_type": "execute_result"
    }
   ],
   "source": [
    "k_combined_field"
   ]
  },
  {
   "cell_type": "markdown",
   "id": "4231b6c4",
   "metadata": {},
   "source": [
    "## Test"
   ]
  },
  {
   "cell_type": "code",
   "execution_count": 329,
   "id": "9facfe84",
   "metadata": {},
   "outputs": [
    {
     "data": {
      "text/plain": [
       "17.700000000000003"
      ]
     },
     "execution_count": 329,
     "metadata": {},
     "output_type": "execute_result"
    }
   ],
   "source": [
    "mean_risk_values = (k_combined_field['Normalized Difference']).mean()\n",
    "mean_risk_values"
   ]
  },
  {
   "cell_type": "code",
   "execution_count": 330,
   "id": "2a27a52c",
   "metadata": {},
   "outputs": [],
   "source": [
    "def mean_confidence_interval(data, confidence=0.95):\n",
    "    a = 1.0 * np.array(data)\n",
    "    n = len(a)\n",
    "    m, se = np.mean(a), scipy.stats.sem(a)\n",
    "    h = se * scipy.stats.t.ppf((1 + confidence) / 2., n-1)\n",
    "    return m, m-h, m+h"
   ]
  },
  {
   "cell_type": "code",
   "execution_count": 331,
   "id": "aa16e0d6",
   "metadata": {},
   "outputs": [
    {
     "data": {
      "text/plain": [
       "(0.0, 0.0, 0.0)"
      ]
     },
     "execution_count": 331,
     "metadata": {},
     "output_type": "execute_result"
    }
   ],
   "source": [
    "mean_non_risky_values = mean_confidence_interval(k_combined_field_non_risk['Normalized Difference'], confidence=0.95)\n",
    "mean_non_risky_values"
   ]
  },
  {
   "cell_type": "code",
   "execution_count": 332,
   "id": "20a9a76a",
   "metadata": {},
   "outputs": [
    {
     "name": "stdout",
     "output_type": "stream",
     "text": [
      "t(Welch's adjustment) = 2.95, p = 0.018, mean1 = 17.70, mean2 = 0.00\n",
      "There is a significant difference between the two groups.\n"
     ]
    }
   ],
   "source": [
    "def two_sample_t_test_summary(data1, data2, equal_var=False):\n",
    "\n",
    "    t_stat, p_value = stats.ttest_ind(data1, data2, equal_var=equal_var)\n",
    "\n",
    "    mean1 = np.mean(data1)\n",
    "    mean2 = np.mean(data2)\n",
    "    \n",
    "    df = (len(data1) - 1) + (len(data2) - 1) if equal_var else None\n",
    "    df_text = f\"({df})\" if df else \"(Welch's adjustment)\"\n",
    "    print(f\"t{df_text} = {t_stat:.2f}, p = {p_value:.3f}, mean1 = {mean1:.2f}, mean2 = {mean2:.2f}\")\n",
    "    \n",
    "    return t_stat, p_value, mean1, mean2\n",
    "\n",
    "t_stat, p_value, mean1, mean2 = two_sample_t_test_summary(k_combined_field['Normalized Difference'], k_combined_field_non_risk['Normalized Difference'], equal_var=False)\n",
    "\n",
    "if p_value < 0.05:\n",
    "    print(\"There is a significant difference between the two groups.\")\n",
    "else:\n",
    "    print(\"There is no significant difference between the two groups.\")\n"
   ]
  },
  {
   "cell_type": "code",
   "execution_count": 84,
   "id": "b57aef01",
   "metadata": {},
   "outputs": [],
   "source": [
    "t, p = stats.ttest_ind(k_combined_field['Normalized Difference'], k_combined_field_non_risk['Normalized Difference'])"
   ]
  },
  {
   "cell_type": "code",
   "execution_count": 85,
   "id": "4de29f0d",
   "metadata": {},
   "outputs": [
    {
     "data": {
      "text/plain": [
       "(3.5330157580608517, 0.0016250577714283616)"
      ]
     },
     "execution_count": 85,
     "metadata": {},
     "output_type": "execute_result"
    }
   ],
   "source": [
    "t, p"
   ]
  },
  {
   "cell_type": "markdown",
   "id": "75097321",
   "metadata": {},
   "source": [
    "### PIF & SUDA Outliers "
   ]
  },
  {
   "cell_type": "code",
   "execution_count": 18,
   "id": "ec4e23a9",
   "metadata": {},
   "outputs": [],
   "source": [
    "#SUDA\n",
    "class_outliers, madn, mad, outlier_indices, above_outlier_indices = ST.rst_outlier_case2(suda, 'dis-score')"
   ]
  },
  {
   "cell_type": "code",
   "execution_count": 20,
   "id": "f29e50b4",
   "metadata": {},
   "outputs": [
    {
     "name": "stdout",
     "output_type": "stream",
     "text": [
      "434\n"
     ]
    }
   ],
   "source": [
    "print(len(above_outlier_indices))"
   ]
  },
  {
   "cell_type": "code",
   "execution_count": 21,
   "id": "7af4cf81",
   "metadata": {},
   "outputs": [
    {
     "name": "stdout",
     "output_type": "stream",
     "text": [
      "6\n"
     ]
    }
   ],
   "source": [
    "#PIF\n",
    "class_outliers, madn, mad, outlier_indices, above_outlier_indices = rst_outlier_case2(pif, 'RIG')\n",
    "print(len(above_outlier_indices))"
   ]
  },
  {
   "cell_type": "code",
   "execution_count": 362,
   "id": "82cc1f41",
   "metadata": {},
   "outputs": [
    {
     "data": {
      "text/plain": [
       "participant_id            sub-0339\n",
       "age                          22.75\n",
       "sex                         female\n",
       "handedness                   right\n",
       "BMI                             27\n",
       "education_level               high\n",
       "background_SES                 6.0\n",
       "IST_fluid                    138.0\n",
       "IST_memory                    61.0\n",
       "IST_crystallised              46.0\n",
       "IST_intelligence_total       245.0\n",
       "BAS_drive                       15\n",
       "BAS_fun                         14\n",
       "BAS_reward                      19\n",
       "BIS                             17\n",
       "NEO_N                           32\n",
       "NEO_E                           45\n",
       "NEO_O                           40\n",
       "NEO_A                           40\n",
       "NEO_C                         32.0\n",
       "STAI_T                        31.0\n",
       "sexual_attraction_M            3.0\n",
       "sexual_attraction_F            6.0\n",
       "gender_identity_M              3.0\n",
       "gender_identity_F              4.0\n",
       "religious_upbringing            no\n",
       "religious_now                   no\n",
       "religious_importance           NaN\n",
       "DWI_TR_run1                  6.312\n",
       "DWI_TR_run2                  6.312\n",
       "DWI_TR_run3                  6.312\n",
       "Name: 338, dtype: object"
      ]
     },
     "execution_count": 362,
     "metadata": {},
     "output_type": "execute_result"
    }
   ],
   "source": [
    "AOMIC.loc[338]"
   ]
  },
  {
   "cell_type": "markdown",
   "id": "9179661a",
   "metadata": {},
   "source": [
    "## Improving Risk"
   ]
  },
  {
   "cell_type": "code",
   "execution_count": 22,
   "id": "b6639bb4",
   "metadata": {},
   "outputs": [],
   "source": [
    "suda_improved = pd.read_csv('data_ds003097/improved_suda.csv', sep=',')\n",
    "pif_improved = pd.read_csv('data_ds003097/improved_PIF.csv', sep=',',index_col='Unnamed: 0').sort_index()"
   ]
  },
  {
   "cell_type": "code",
   "execution_count": 23,
   "id": "732638a5",
   "metadata": {},
   "outputs": [
    {
     "name": "stdout",
     "output_type": "stream",
     "text": [
      "84\n"
     ]
    },
    {
     "name": "stderr",
     "output_type": "stream",
     "text": [
      "../metapriv_stat.py:248: RuntimeWarning: divide by zero encountered in true_divide\n",
      "  z_scores = (column_data_array - median) / madn\n",
      "../metapriv_stat.py:248: RuntimeWarning: invalid value encountered in true_divide\n",
      "  z_scores = (column_data_array - median) / madn\n"
     ]
    }
   ],
   "source": [
    "class_outliers, madn, mad, outlier_indices, above_outlier_indices = ST.rst_outlier_case2(suda_improved, 'dis-score')\n",
    "print(len(above_outlier_indices))"
   ]
  },
  {
   "cell_type": "code",
   "execution_count": 25,
   "id": "01561047",
   "metadata": {},
   "outputs": [
    {
     "name": "stdout",
     "output_type": "stream",
     "text": [
      "18\n"
     ]
    }
   ],
   "source": [
    "class_outliers, madn, mad, outlier_indices, above_outlier_indices = rst_outlier_case2(pif_improved, 'RIG')\n",
    "print(len(above_outlier_indices))"
   ]
  },
  {
   "cell_type": "code",
   "execution_count": null,
   "id": "29f41916",
   "metadata": {},
   "outputs": [],
   "source": []
  },
  {
   "cell_type": "code",
   "execution_count": null,
   "id": "e4d8191a",
   "metadata": {},
   "outputs": [],
   "source": []
  }
 ],
 "metadata": {
  "kernelspec": {
   "display_name": "Python 3 (ipykernel)",
   "language": "python",
   "name": "python3"
  },
  "language_info": {
   "codemirror_mode": {
    "name": "ipython",
    "version": 3
   },
   "file_extension": ".py",
   "mimetype": "text/x-python",
   "name": "python",
   "nbconvert_exporter": "python",
   "pygments_lexer": "ipython3",
   "version": "3.7.12"
  }
 },
 "nbformat": 4,
 "nbformat_minor": 5
}
